{
 "cells": [
  {
   "cell_type": "code",
   "execution_count": 2,
   "metadata": {},
   "outputs": [],
   "source": [
    "class Conditions:\n",
    "    def __init__(self, can_wash, store_available, packsize, days, weather, outdoors, indoors, alone_travel,\n",
    "                will_work):\n",
    "        self.packsize = packsize\n",
    "        self.days = days\n",
    "        self.can_wash = can_wash\n",
    "        self.store_available = store_available\n",
    "        self.weather = weather\n",
    "        self.outdoors = outdoors\n",
    "        self.indoors = indoors\n",
    "        self.alone_travel = alone_travel\n",
    "        self.will_work = will_work\n",
    "        self.store_available = store_available"
   ]
  },
  {
   "cell_type": "code",
   "execution_count": 39,
   "metadata": {},
   "outputs": [],
   "source": [
    "import math\n",
    "\n",
    "\n",
    "class Item:\n",
    "    \n",
    "    def __init__(self, conditions):\n",
    "        self.conditions = conditions\n",
    "        \n",
    "    def get_quantity(self):\n",
    "        raise NotImplementedError(\"Subclass must implement abstract method\")\n",
    "        \n",
    "        \n",
    "class Clothes(Item):\n",
    "        \n",
    "    def adjust_quantity(self):\n",
    "        pass\n",
    "        \n",
    "        \n",
    "class Underwear(Clothes):\n",
    "    def get_quantity(self):\n",
    "        return self.conditions.days+2\n",
    "    \n",
    "class Jeans(Clothes):\n",
    "    def get_quantity(self):\n",
    "        if self.conditions.weather in ['cold','mild']:\n",
    "            return math.ceil(self.conditions.days/2)\n",
    "        elif self.conditions.weather == 'hot':\n",
    "            return math.ceil(self.conditions.days/6)\n",
    "        else:\n",
    "            return 0\n",
    "        \n",
    "\n",
    "def pack(class_category, conditions):\n",
    "    pack_list = []\n",
    "        \n",
    "    item_list = class_category.__subclasses__()\n",
    "\n",
    "    for item in item_list:\n",
    "\n",
    "        quantity = item(conditions).get_quantity()\n",
    "        if quantity > 0:\n",
    "            pack_list.append((item.__name__, quantity))\n",
    "\n",
    "    return pack_list"
   ]
  },
  {
   "cell_type": "code",
   "execution_count": 3,
   "metadata": {},
   "outputs": [],
   "source": [
    "travel_conditions = Conditions(packsize='small',days=3, weather='hot', outdoors=True, can_wash=False, indoors=False,\n",
    "                              alone_travel=False, store_available = True, will_work = False)"
   ]
  },
  {
   "cell_type": "code",
   "execution_count": 18,
   "metadata": {},
   "outputs": [],
   "source": [
    "item = Item(travel_conditions)"
   ]
  },
  {
   "cell_type": "code",
   "execution_count": 40,
   "metadata": {},
   "outputs": [
    {
     "data": {
      "text/plain": [
       "1"
      ]
     },
     "execution_count": 40,
     "metadata": {},
     "output_type": "execute_result"
    }
   ],
   "source": [
    "Jeans(travel_conditions).get_quantity()"
   ]
  },
  {
   "cell_type": "code",
   "execution_count": 41,
   "metadata": {},
   "outputs": [
    {
     "data": {
      "text/plain": [
       "[('Underwear', 5), ('Jeans', 1)]"
      ]
     },
     "execution_count": 41,
     "metadata": {},
     "output_type": "execute_result"
    }
   ],
   "source": [
    "pack(Clothes, travel_conditions)"
   ]
  },
  {
   "cell_type": "code",
   "execution_count": 55,
   "metadata": {},
   "outputs": [
    {
     "data": {
      "text/plain": [
       "[__main__.Underwear, __main__.Jeans]"
      ]
     },
     "execution_count": 55,
     "metadata": {},
     "output_type": "execute_result"
    }
   ],
   "source": [
    "Clothes.__subclasses__()"
   ]
  }
 ],
 "metadata": {
  "kernelspec": {
   "display_name": "Python 3",
   "language": "python",
   "name": "python3"
  },
  "language_info": {
   "codemirror_mode": {
    "name": "ipython",
    "version": 3
   },
   "file_extension": ".py",
   "mimetype": "text/x-python",
   "name": "python",
   "nbconvert_exporter": "python",
   "pygments_lexer": "ipython3",
   "version": "3.7.4"
  }
 },
 "nbformat": 4,
 "nbformat_minor": 2
}
