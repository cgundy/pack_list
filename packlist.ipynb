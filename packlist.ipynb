{
 "cells": [
  {
   "cell_type": "code",
   "execution_count": null,
   "metadata": {},
   "outputs": [],
   "source": []
  },
  {
   "cell_type": "code",
   "execution_count": 1053,
   "metadata": {},
   "outputs": [],
   "source": [
    "class Conditions:\n",
    "    def __init__(self, can_wash, store_available, packsize, days, weather, outdoors, indoors, alone_travel,\n",
    "                will_work):\n",
    "        self.packsize = packsize\n",
    "        self.days = days\n",
    "        self.can_wash = can_wash\n",
    "        self.store_available = store_available\n",
    "        self.weather = weather\n",
    "        self.outdoors = outdoors\n",
    "        self.indoors = indoors\n",
    "        self.alone_travel = alone_travel\n",
    "        self.will_work = will_work\n",
    "        self.store_available = store_available"
   ]
  },
  {
   "cell_type": "code",
   "execution_count": 1054,
   "metadata": {},
   "outputs": [],
   "source": [
    "class Item:\n",
    "    def __init__(self):\n",
    "        pass\n",
    "    \n",
    "    def get_quantity(self):\n",
    "        raise NotImplementedError(\"Subclass must implement abstract method\")\n",
    "        \n",
    "    def is_needed(self, boolean_cond, cat_cond):\n",
    "        if self.always_needed:\n",
    "            return True\n",
    "        \n",
    "        item_needed = False\n",
    "        \n",
    "        for condition in vars(self).keys():\n",
    "            if condition in boolean_cond:\n",
    "                if vars(self)[condition]:\n",
    "                    if vars(travel_conditions)[condition] in vars(self)[condition]:\n",
    "                        item_needed = True\n",
    "                    else:\n",
    "                        item_needed = False\n",
    "            if condition in cat_cond:\n",
    "                if vars(self)[condition]:\n",
    "                    if vars(travel_conditions)[condition] == vars(self)[condition]:\n",
    "                        item_needed = True\n",
    "                    else:\n",
    "                        item_needed = False\n",
    "                        \n",
    "        return item_needed"
   ]
  },
  {
   "cell_type": "code",
   "execution_count": 1055,
   "metadata": {},
   "outputs": [],
   "source": [
    "class Clothes(Item):\n",
    "    \n",
    "    def __init__(self, name, always_needed = None, weather=None, indoors=None, quantity_func=None):\n",
    "        self.name = name\n",
    "        self.quantity_func = quantity_func\n",
    "        self.always_needed = always_needed\n",
    "        self.weather = weather\n",
    "        self.indoors = indoors\n",
    "        \n",
    "    def _rebalance_quantities(self):\n",
    "        pass\n",
    "    \n",
    "    def get_quantity(self, conditions):\n",
    "        quantity = self.quantity_func(conditions.days)\n",
    "        if conditions.days > 6:\n",
    "            if conditions.can_wash:\n",
    "                quantity = math.ceil(quantity / 2) + math.floor(quantity / 3)\n",
    "        return quantity\n",
    "    \n",
    "    def is_needed(self):\n",
    "        return Item.is_needed(self, ['weather'],['at_home'])\n",
    "        "
   ]
  },
  {
   "cell_type": "code",
   "execution_count": 813,
   "metadata": {},
   "outputs": [],
   "source": [
    "class Electronics(Item):\n",
    "    \n",
    "    def __init__(self, name, quantity_func=None, always_needed = False, packsize=None, indoors=None, \n",
    "                alone_travel=None, will_work=None):\n",
    "        self.name = name\n",
    "        self.quantity_func = quantity_func\n",
    "        self.always_needed = always_needed\n",
    "        self.packsize = packsize\n",
    "        self.indoors = indoors\n",
    "        self.alone_travel = alone_travel\n",
    "        self.will_work = will_work\n",
    "        \n",
    "    \n",
    "    def get_quantity(self, conditions):\n",
    "        quantity = self.quantity_func(conditions.days)\n",
    "        if self.always_needed:\n",
    "            if not conditions.store_available:\n",
    "                quantity+=1\n",
    "        return quantity\n",
    "        \n",
    "    \n",
    "    def is_needed(self):\n",
    "        return Item.is_needed(self, ['packsize'],['at_home'])"
   ]
  },
  {
   "cell_type": "code",
   "execution_count": null,
   "metadata": {},
   "outputs": [],
   "source": [
    "class SpecialActivities(Item):\n",
    "    def __init__(self, name, activity, activity_days):\n",
    "        self.activity = activity\n",
    "        self.activity_days = activity_days\n",
    "        \n",
    "    def get_quantity(self, conditions):\n",
    "        quantity = self.quantity_func(conditions.days)\n",
    "        if self.always_needed:\n",
    "            if not conditions.store_available:\n",
    "                quantity+=1\n",
    "        return quantity\n",
    "        \n",
    "        "
   ]
  },
  {
   "cell_type": "code",
   "execution_count": 782,
   "metadata": {},
   "outputs": [],
   "source": [
    "\n",
    "def pack(conditions, item_list):\n",
    "    pack_list = []\n",
    "    \n",
    "    for item in item_list:\n",
    "                    \n",
    "        quantity = item.get_quantity(conditions)\n",
    "            \n",
    "        if item.is_needed():\n",
    "            pack_list.append((item.name, quantity))\n",
    "        \n",
    "    return pack_list"
   ]
  },
  {
   "cell_type": "code",
   "execution_count": 1056,
   "metadata": {},
   "outputs": [],
   "source": [
    "import math\n",
    "\n",
    "underwear = Clothes(name='underwear', always_needed = True, quantity_func= lambda x: x+2)\n",
    "jeans_cold = Clothes(name='jeans', weather = ('cold','mild'), quantity_func= lambda x: math.ceil(x/2))\n",
    "jeans_hot = Clothes(name='jeans', weather = ('hot'), indoors = True, quantity_func= lambda x: math.ceil(x/6))\n",
    "shirts = Clothes(name='shirts', always_needed = True, quantity_func= lambda x: x)\n",
    "shorts = Clothes(name='shorts', weather = ('hot'), quantity_func= lambda x: math.ceil(x/2))\n",
    "dress = Clothes(name='dress', weather = ('hot'), quantity_func= lambda x: math.ceil(x/4))"
   ]
  },
  {
   "cell_type": "code",
   "execution_count": 852,
   "metadata": {},
   "outputs": [],
   "source": [
    "ipad = Electronics(name='ipad', packsize=('small','large'), quantity_func = lambda x:1)\n",
    "laptop = Electronics(name='laptop', packsize=('medium','large'), quantity_func = lambda x:1)\n",
    "phone_charger = Electronics(name='phone_charger', always_needed = True, quantity_func= lambda x: 2 if x > 3 else 1)\n",
    "ear_buds = Electronics(name='ear_buds', always_needed = True, quantity_func= lambda x: 3 if x > 5 else 2)\n",
    "headphones = Electronics(name='headphones', alone_travel=True, quantity_func = lambda x:1)\n",
    "headphones2 = Electronics(name='headphones', packsize=('medium','large'), quantity_func = lambda x:1)\n",
    "work_laptop = Electronics(name='work_laptop', will_work = True, quantity_func = lambda x:1)\n",
    "laptop_buds = Electronics(name='laptop_buds', will_work = True, quantity_func = lambda x:2)"
   ]
  },
  {
   "cell_type": "code",
   "execution_count": null,
   "metadata": {},
   "outputs": [],
   "source": [
    "climbing_pants = SpecialActivities(name='climbing_pants', event='climbing', quantity_func = lambda x:x)\n",
    "workout_shirt = SpecialActivities(name='workout_shirt', event='climbing', quantity_func = lambda x:x)\n",
    "climbing_shoes = SpecialActivities(name='climbing_shoes', event='climbing', quantity_func = lambda x:1)\n",
    "fancy_attire = SpecialActivities(name='fancy_attire', event='fancy', quantity_func = lambda x:x)"
   ]
  },
  {
   "cell_type": "code",
   "execution_count": null,
   "metadata": {},
   "outputs": [],
   "source": []
  },
  {
   "cell_type": "code",
   "execution_count": 1044,
   "metadata": {},
   "outputs": [],
   "source": [
    "clothes = [underwear, jeans_cold, jeans_hot, shorts, dress]"
   ]
  },
  {
   "cell_type": "code",
   "execution_count": 1051,
   "metadata": {},
   "outputs": [
    {
     "data": {
      "text/plain": [
       "[('underwear', 5), ('shorts', 2), ('dress', 1)]"
      ]
     },
     "execution_count": 1051,
     "metadata": {},
     "output_type": "execute_result"
    }
   ],
   "source": [
    "pack(travel_conditions, clothes)"
   ]
  },
  {
   "cell_type": "code",
   "execution_count": 826,
   "metadata": {},
   "outputs": [],
   "source": [
    "electronics = [ipad, laptop, phone_charger, ear_buds, headphones, headphones2]"
   ]
  },
  {
   "cell_type": "code",
   "execution_count": 827,
   "metadata": {},
   "outputs": [
    {
     "data": {
      "text/plain": [
       "[('laptop', 1), ('phone_charger', 2), ('ear_buds', 2), ('headphones', 1)]"
      ]
     },
     "execution_count": 827,
     "metadata": {},
     "output_type": "execute_result"
    }
   ],
   "source": [
    "pack(travel_conditions, electronics)"
   ]
  },
  {
   "cell_type": "code",
   "execution_count": 1050,
   "metadata": {},
   "outputs": [],
   "source": [
    "travel_conditions = Conditions(packsize='small',days=3, weather='hot', outdoors=True, can_wash=False, indoors=False,\n",
    "                              alone_travel=False, store_available = True, will_work = False)"
   ]
  },
  {
   "cell_type": "code",
   "execution_count": null,
   "metadata": {},
   "outputs": [],
   "source": [
    "underwear = days + 2\n",
    "jeans = cold, days / 2\n",
    "jeans = mild, days / 2\n",
    "jeans = hot, at_home, days / 4\n",
    "t_shirts = days\n",
    "sweaters = cold, days / 2\n",
    "sweaters = mild, days / 3\n",
    "sweaters = hot, days / 4"
   ]
  }
 ],
 "metadata": {
  "kernelspec": {
   "display_name": "Python 3",
   "language": "python",
   "name": "python3"
  },
  "language_info": {
   "codemirror_mode": {
    "name": "ipython",
    "version": 3
   },
   "file_extension": ".py",
   "mimetype": "text/x-python",
   "name": "python",
   "nbconvert_exporter": "python",
   "pygments_lexer": "ipython3",
   "version": "3.7.4"
  }
 },
 "nbformat": 4,
 "nbformat_minor": 2
}
