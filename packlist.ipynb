{
 "cells": [
  {
   "cell_type": "code",
   "execution_count": null,
   "metadata": {},
   "outputs": [],
   "source": []
  },
  {
   "cell_type": "code",
   "execution_count": 2,
   "metadata": {},
   "outputs": [],
   "source": [
    "class Conditions:\n",
    "    def __init__(self, can_wash, store_available, packsize, days, weather, outdoors, indoors, alone_travel,\n",
    "                will_work):\n",
    "        self.packsize = packsize\n",
    "        self.days = days\n",
    "        self.can_wash = can_wash\n",
    "        self.store_available = store_available\n",
    "        self.weather = weather\n",
    "        self.outdoors = outdoors\n",
    "        self.indoors = indoors\n",
    "        self.alone_travel = alone_travel\n",
    "        self.will_work = will_work\n",
    "        self.store_available = store_available"
   ]
  },
  {
   "cell_type": "code",
   "execution_count": 5,
   "metadata": {},
   "outputs": [],
   "source": [
    "class Item:\n",
    "    def __init__(self):\n",
    "        pass\n",
    "    \n",
    "    def get_quantity(self):\n",
    "        raise NotImplementedError(\"Subclass must implement abstract method\")\n",
    "        \n",
    "    def is_needed(self, boolean_cond, cat_cond):\n",
    "        if self.always_needed:\n",
    "            return True\n",
    "        \n",
    "        item_needed = False\n",
    "        \n",
    "        for condition in vars(self).keys():\n",
    "            if condition in boolean_cond:\n",
    "                if vars(self)[condition]:\n",
    "                    if vars(travel_conditions)[condition] in vars(self)[condition]:\n",
    "                        item_needed = True\n",
    "                    else:\n",
    "                        item_needed = False\n",
    "            if condition in cat_cond:\n",
    "                if vars(self)[condition]:\n",
    "                    if vars(travel_conditions)[condition] == vars(self)[condition]:\n",
    "                        item_needed = True\n",
    "                    else:\n",
    "                        item_needed = False\n",
    "                        \n",
    "        return item_needed"
   ]
  },
  {
   "cell_type": "code",
   "execution_count": 6,
   "metadata": {},
   "outputs": [],
   "source": [
    "class Clothes(Item):\n",
    "    \n",
    "    def __init__(self, name, always_needed = None, weather=None, indoors=None, quantity_func=None):\n",
    "        self.name = name\n",
    "        self.quantity_func = quantity_func\n",
    "        self.always_needed = always_needed\n",
    "        self.weather = weather\n",
    "        self.indoors = indoors\n",
    "        \n",
    "    def _rebalance_quantities(self):\n",
    "        pass\n",
    "    \n",
    "    def get_quantity(self, conditions):\n",
    "        quantity = self.quantity_func(conditions.days)\n",
    "        if conditions.days > 6:\n",
    "            if conditions.can_wash:\n",
    "                quantity = math.ceil(quantity / 2) + math.floor(quantity / 3)\n",
    "        return quantity\n",
    "    \n",
    "    def is_needed(self):\n",
    "        return Item.is_needed(self, ['weather'],['at_home'])\n",
    "        "
   ]
  },
  {
   "cell_type": "code",
   "execution_count": 813,
   "metadata": {},
   "outputs": [],
   "source": [
    "class Electronics(Item):\n",
    "    \n",
    "    def __init__(self, name, quantity_func=None, always_needed = False, packsize=None, indoors=None, \n",
    "                alone_travel=None, will_work=None):\n",
    "        self.name = name\n",
    "        self.quantity_func = quantity_func\n",
    "        self.always_needed = always_needed\n",
    "        self.packsize = packsize\n",
    "        self.indoors = indoors\n",
    "        self.alone_travel = alone_travel\n",
    "        self.will_work = will_work\n",
    "        \n",
    "    \n",
    "    def get_quantity(self, conditions):\n",
    "        quantity = self.quantity_func(conditions.days)\n",
    "        if self.always_needed:\n",
    "            if not conditions.store_available:\n",
    "                quantity+=1\n",
    "        return quantity\n",
    "        \n",
    "    \n",
    "    def is_needed(self):\n",
    "        return Item.is_needed(self, ['packsize'],['at_home'])"
   ]
  },
  {
   "cell_type": "code",
   "execution_count": null,
   "metadata": {},
   "outputs": [],
   "source": [
    "class SpecialActivities(Item):\n",
    "    def __init__(self, name, activity, activity_days):\n",
    "        self.activity = activity\n",
    "        self.activity_days = activity_days\n",
    "        \n",
    "    def get_quantity(self, conditions):\n",
    "        quantity = self.quantity_func(conditions.days)\n",
    "        if self.always_needed:\n",
    "            if not conditions.store_available:\n",
    "                quantity+=1\n",
    "        return quantity\n",
    "        \n",
    "        "
   ]
  },
  {
   "cell_type": "code",
   "execution_count": 11,
   "metadata": {},
   "outputs": [],
   "source": [
    "\n",
    "def pack(conditions, item_list):\n",
    "    pack_list = []\n",
    "    \n",
    "    for item in item_list:\n",
    "                    \n",
    "        quantity = item.get_quantity(conditions)\n",
    "            \n",
    "        if item.is_needed():\n",
    "            pack_list.append((item.name, quantity))\n",
    "        \n",
    "    return pack_list"
   ]
  },
  {
   "cell_type": "code",
   "execution_count": 1056,
   "metadata": {},
   "outputs": [],
   "source": [
    "import math\n",
    "\n",
    "underwear = Clothes(name='underwear', always_needed = True, quantity_func= lambda x: x+2)\n",
    "jeans_cold = Clothes(name='jeans', weather = ('cold','mild'), quantity_func= lambda x: math.ceil(x/2))\n",
    "jeans_hot = Clothes(name='jeans', weather = ('hot'), indoors = True, quantity_func= lambda x: math.ceil(x/6))\n",
    "shirts = Clothes(name='shirts', always_needed = True, quantity_func= lambda x: x)\n",
    "shorts = Clothes(name='shorts', weather = ('hot'), quantity_func= lambda x: math.ceil(x/2))\n",
    "dress = Clothes(name='dress', weather = ('hot'), quantity_func= lambda x: math.ceil(x/4))"
   ]
  },
  {
   "cell_type": "code",
   "execution_count": 852,
   "metadata": {},
   "outputs": [],
   "source": [
    "ipad = Electronics(name='ipad', packsize=('small','large'), quantity_func = lambda x:1)\n",
    "laptop = Electronics(name='laptop', packsize=('medium','large'), quantity_func = lambda x:1)\n",
    "phone_charger = Electronics(name='phone_charger', always_needed = True, quantity_func= lambda x: 2 if x > 3 else 1)\n",
    "ear_buds = Electronics(name='ear_buds', always_needed = True, quantity_func= lambda x: 3 if x > 5 else 2)\n",
    "headphones = Electronics(name='headphones', alone_travel=True, quantity_func = lambda x:1)\n",
    "headphones2 = Electronics(name='headphones', packsize=('medium','large'), quantity_func = lambda x:1)\n",
    "work_laptop = Electronics(name='work_laptop', will_work = True, quantity_func = lambda x:1)\n",
    "laptop_buds = Electronics(name='laptop_buds', will_work = True, quantity_func = lambda x:2)"
   ]
  },
  {
   "cell_type": "code",
   "execution_count": null,
   "metadata": {},
   "outputs": [],
   "source": [
    "climbing_pants = SpecialActivities(name='climbing_pants', event='climbing', quantity_func = lambda x:x)\n",
    "workout_shirt = SpecialActivities(name='workout_shirt', event='climbing', quantity_func = lambda x:x)\n",
    "climbing_shoes = SpecialActivities(name='climbing_shoes', event='climbing', quantity_func = lambda x:1)\n",
    "fancy_attire = SpecialActivities(name='fancy_attire', event='fancy', quantity_func = lambda x:x)"
   ]
  },
  {
   "cell_type": "code",
   "execution_count": null,
   "metadata": {},
   "outputs": [],
   "source": [
    "class Item"
   ]
  },
  {
   "cell_type": "code",
   "execution_count": 15,
   "metadata": {},
   "outputs": [],
   "source": [
    "class Clothes(Item):\n",
    "    all_clothing_items = []\n",
    "    \n",
    "    def __init__(self, name, always_needed = None, weather=None, indoors=None, quantity_func=None):\n",
    "        self.name = name\n",
    "        self.quantity_func = quantity_func\n",
    "        self.always_needed = always_needed\n",
    "        self.weather = weather\n",
    "        self.indoors = indoors\n",
    "        Clothes.all_clothing_items.append(self)\n",
    "        \n",
    "    def _rebalance_quantities(self):\n",
    "        pass\n",
    "    \n",
    "    def get_quantity(self, conditions):\n",
    "        quantity = self.quantity_func(conditions.days)\n",
    "        if conditions.days > 6:\n",
    "            if conditions.can_wash:\n",
    "                quantity = math.ceil(quantity / 2) + math.floor(quantity / 3)\n",
    "        return quantity\n",
    "    \n",
    "    def is_needed(self):\n",
    "        return Item.is_needed(self, ['weather'],['at_home'])"
   ]
  },
  {
   "cell_type": "code",
   "execution_count": 18,
   "metadata": {},
   "outputs": [],
   "source": [
    "class Item:\n",
    "    def __init__(self):\n",
    "        pass\n",
    "    \n",
    "    def pack(item_list):\n",
    "        pack_list = []\n",
    "    \n",
    "        for item in item_list:\n",
    "\n",
    "            quantity = item.get_quantity(conditions)\n",
    "\n",
    "            if quantity != 0:\n",
    "                pack_list.append((item.name, quantity))\n",
    "\n",
    "        return pack_list\n",
    "\n",
    "all_items = []\n",
    "\n",
    "class SuperItem(type):\n",
    "    def __init__(cls, name, bases, clsdict):\n",
    "  #      self.name = name\n",
    "  #      Clothes.all_items.append(self)\n",
    "        if len(cls.__mro__) > 2:\n",
    "            all_items.append(cls)\n",
    "        super(SuperItem, cls).__init__(name, bases, clsdict)\n",
    "    \n",
    "\n",
    "class Clothes(metaclass=SuperItem):\n",
    "        \n",
    "    def adjust_quantity():\n",
    "        pass\n",
    "        \n",
    "    def pack():\n",
    "        pass\n",
    "        \n",
    "        \n",
    "class Underwear(Clothes):\n",
    "    @staticmethod\n",
    "    def get_quantity(conditions):\n",
    "        return conditions.days+2\n",
    "    \n",
    "class Jeans(Clothes):\n",
    "    @staticmethod\n",
    "    def get_quantity(conditions):\n",
    "        if conditions.weather in ['cold','mild']:\n",
    "            return math.ceil(conditions.days/2)\n",
    "        elif conditions.weather == 'hot':\n",
    "            return math.ceil(conditions.days/6)\n",
    "        else:\n",
    "            return 0\n",
    "    "
   ]
  },
  {
   "cell_type": "code",
   "execution_count": 19,
   "metadata": {},
   "outputs": [
    {
     "data": {
      "text/plain": [
       "[__main__.Underwear, __main__.Jeans]"
      ]
     },
     "execution_count": 19,
     "metadata": {},
     "output_type": "execute_result"
    }
   ],
   "source": [
    "all_items"
   ]
  },
  {
   "cell_type": "code",
   "execution_count": 6,
   "metadata": {},
   "outputs": [],
   "source": [
    "\n",
    "\n",
    "class Item:\n",
    "    def __init__(self):\n",
    "        pass\n",
    "        \n",
    "    def set_conditions(self, conditions):\n",
    "        self.conditions = conditions\n",
    "    \n",
    "class Underwear(Item):\n",
    "    \n",
    "    @staticmethod\n",
    "    def get_quantity():\n",
    "        quantity = Item.conditions.days+2\n",
    "        return ('underwear', quantity)\n",
    "    \n",
    "class Jeans(Item):\n",
    "    \n",
    "    @staticmethod\n",
    "    def get_quantity():\n",
    "        if Item.conditions.weather in ['cold','mild']:\n",
    "            quantity = math.ceil(conditions.days/2)\n",
    "        elif Item.conditions.weather == 'hot':\n",
    "            quantity = math.ceil(conditions.days/6)\n",
    "        else:\n",
    "            quantity = 0\n",
    "        return ('underwear', quantity)\n",
    "        "
   ]
  },
  {
   "cell_type": "code",
   "execution_count": 7,
   "metadata": {},
   "outputs": [],
   "source": [
    "item = Item()\n",
    "item.set_conditions(travel_conditions)"
   ]
  },
  {
   "cell_type": "code",
   "execution_count": 14,
   "metadata": {},
   "outputs": [],
   "source": [
    "clothes = [Underwear(), Jeans()]"
   ]
  },
  {
   "cell_type": "code",
   "execution_count": 57,
   "metadata": {},
   "outputs": [
    {
     "data": {
      "text/plain": [
       "[]"
      ]
     },
     "execution_count": 57,
     "metadata": {},
     "output_type": "execute_result"
    }
   ],
   "source": [
    "clothes_items"
   ]
  },
  {
   "cell_type": "code",
   "execution_count": 14,
   "metadata": {},
   "outputs": [
    {
     "data": {
      "text/plain": [
       "7"
      ]
     },
     "execution_count": 14,
     "metadata": {},
     "output_type": "execute_result"
    }
   ],
   "source": [
    "UnderWear('underwear').get_quantity(5)"
   ]
  },
  {
   "cell_type": "code",
   "execution_count": 1044,
   "metadata": {},
   "outputs": [],
   "source": [
    "clothes = [underwear, jeans_cold, jeans_hot, shorts, dress]"
   ]
  },
  {
   "cell_type": "code",
   "execution_count": 15,
   "metadata": {},
   "outputs": [
    {
     "ename": "AttributeError",
     "evalue": "'Underwear' object has no attribute 'is_needed'",
     "output_type": "error",
     "traceback": [
      "\u001b[0;31m---------------------------------------------------------------------------\u001b[0m",
      "\u001b[0;31mAttributeError\u001b[0m                            Traceback (most recent call last)",
      "\u001b[0;32m<ipython-input-15-dc2c9bdd4680>\u001b[0m in \u001b[0;36m<module>\u001b[0;34m\u001b[0m\n\u001b[0;32m----> 1\u001b[0;31m \u001b[0mpack\u001b[0m\u001b[0;34m(\u001b[0m\u001b[0mtravel_conditions\u001b[0m\u001b[0;34m,\u001b[0m \u001b[0mclothes\u001b[0m\u001b[0;34m)\u001b[0m\u001b[0;34m\u001b[0m\u001b[0;34m\u001b[0m\u001b[0m\n\u001b[0m",
      "\u001b[0;32m<ipython-input-11-932f0f6b8574>\u001b[0m in \u001b[0;36mpack\u001b[0;34m(conditions, item_list)\u001b[0m\n\u001b[1;32m      6\u001b[0m         \u001b[0mquantity\u001b[0m \u001b[0;34m=\u001b[0m \u001b[0mitem\u001b[0m\u001b[0;34m.\u001b[0m\u001b[0mget_quantity\u001b[0m\u001b[0;34m(\u001b[0m\u001b[0mconditions\u001b[0m\u001b[0;34m)\u001b[0m\u001b[0;34m\u001b[0m\u001b[0;34m\u001b[0m\u001b[0m\n\u001b[1;32m      7\u001b[0m \u001b[0;34m\u001b[0m\u001b[0m\n\u001b[0;32m----> 8\u001b[0;31m         \u001b[0;32mif\u001b[0m \u001b[0mitem\u001b[0m\u001b[0;34m.\u001b[0m\u001b[0mis_needed\u001b[0m\u001b[0;34m(\u001b[0m\u001b[0;34m)\u001b[0m\u001b[0;34m:\u001b[0m\u001b[0;34m\u001b[0m\u001b[0;34m\u001b[0m\u001b[0m\n\u001b[0m\u001b[1;32m      9\u001b[0m             \u001b[0mpack_list\u001b[0m\u001b[0;34m.\u001b[0m\u001b[0mappend\u001b[0m\u001b[0;34m(\u001b[0m\u001b[0;34m(\u001b[0m\u001b[0mitem\u001b[0m\u001b[0;34m.\u001b[0m\u001b[0mname\u001b[0m\u001b[0;34m,\u001b[0m \u001b[0mquantity\u001b[0m\u001b[0;34m)\u001b[0m\u001b[0;34m)\u001b[0m\u001b[0;34m\u001b[0m\u001b[0;34m\u001b[0m\u001b[0m\n\u001b[1;32m     10\u001b[0m \u001b[0;34m\u001b[0m\u001b[0m\n",
      "\u001b[0;31mAttributeError\u001b[0m: 'Underwear' object has no attribute 'is_needed'"
     ]
    }
   ],
   "source": [
    "pack(travel_conditions, clothes)"
   ]
  },
  {
   "cell_type": "code",
   "execution_count": 826,
   "metadata": {},
   "outputs": [],
   "source": [
    "electronics = [ipad, laptop, phone_charger, ear_buds, headphones, headphones2]"
   ]
  },
  {
   "cell_type": "code",
   "execution_count": 13,
   "metadata": {},
   "outputs": [
    {
     "ename": "NameError",
     "evalue": "name 'electronics' is not defined",
     "output_type": "error",
     "traceback": [
      "\u001b[0;31m---------------------------------------------------------------------------\u001b[0m",
      "\u001b[0;31mNameError\u001b[0m                                 Traceback (most recent call last)",
      "\u001b[0;32m<ipython-input-13-eb384c875bf5>\u001b[0m in \u001b[0;36m<module>\u001b[0;34m\u001b[0m\n\u001b[0;32m----> 1\u001b[0;31m \u001b[0mpack\u001b[0m\u001b[0;34m(\u001b[0m\u001b[0mtravel_conditions\u001b[0m\u001b[0;34m,\u001b[0m \u001b[0melectronics\u001b[0m\u001b[0;34m)\u001b[0m\u001b[0;34m\u001b[0m\u001b[0;34m\u001b[0m\u001b[0m\n\u001b[0m",
      "\u001b[0;31mNameError\u001b[0m: name 'electronics' is not defined"
     ]
    }
   ],
   "source": [
    "pack(travel_conditions, electronics)"
   ]
  },
  {
   "cell_type": "code",
   "execution_count": 3,
   "metadata": {},
   "outputs": [],
   "source": [
    "travel_conditions = Conditions(packsize='small',days=3, weather='hot', outdoors=True, can_wash=False, indoors=False,\n",
    "                              alone_travel=False, store_available = True, will_work = False)"
   ]
  },
  {
   "cell_type": "code",
   "execution_count": null,
   "metadata": {},
   "outputs": [],
   "source": [
    "underwear = days + 2\n",
    "jeans = cold, days / 2\n",
    "jeans = mild, days / 2\n",
    "jeans = hot, at_home, days / 4\n",
    "t_shirts = days\n",
    "sweaters = cold, days / 2\n",
    "sweaters = mild, days / 3\n",
    "sweaters = hot, days / 4"
   ]
  }
 ],
 "metadata": {
  "kernelspec": {
   "display_name": "Python 3",
   "language": "python",
   "name": "python3"
  },
  "language_info": {
   "codemirror_mode": {
    "name": "ipython",
    "version": 3
   },
   "file_extension": ".py",
   "mimetype": "text/x-python",
   "name": "python",
   "nbconvert_exporter": "python",
   "pygments_lexer": "ipython3",
   "version": "3.7.4"
  }
 },
 "nbformat": 4,
 "nbformat_minor": 2
}
